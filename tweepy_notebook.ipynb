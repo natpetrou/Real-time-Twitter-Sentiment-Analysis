{
 "cells": [
  {
   "cell_type": "code",
   "execution_count": null,
   "id": "65904563",
   "metadata": {},
   "outputs": [],
   "source": [
    "#!pip install tweepy==3.10.0"
   ]
  },
  {
   "cell_type": "code",
   "execution_count": null,
   "id": "3cdd31e9",
   "metadata": {},
   "outputs": [],
   "source": [
    "import tweepy\n",
    "from tweepy import Stream\n",
    "from tweepy.streaming import StreamListener\n",
    "from tweepy import OAuthHandler\n",
    "import socket\n",
    "import json"
   ]
  },
  {
   "cell_type": "code",
   "execution_count": null,
   "id": "bdab2692",
   "metadata": {},
   "outputs": [],
   "source": [
    "# Academic Twitter account Authentication\n",
    "consumer_key = \"YOUR_CONSUMER_KEY\"\n",
    "consumer_secret = \"YOUR_CONSUMER_SECRET\"\n",
    "bearerToken = \"YOUR_BEARER_TOKEN\"\n",
    "access_token = \"YOUR_ACCESS_TOKEN\"\n",
    "access_secret = \"YOUR_ACCESS_SECRET\""
   ]
  },
  {
   "cell_type": "code",
   "execution_count": null,
   "id": "986f4b1c",
   "metadata": {},
   "outputs": [],
   "source": [
    "class TweetsListener(StreamListener):\n",
    "    # Class to listen the tweets\n",
    "\n",
    "    def __init__(self, csocket):\n",
    "        self.client_socket = csocket\n",
    "    \n",
    "    def on_data(self, data):\n",
    "        try:\n",
    "            msg = json.loads(data)\n",
    "            print(\"new message\")\n",
    "            \n",
    "            # if tweet is longer than 140 characters\n",
    "            if \"extended_tweet\" in msg:\n",
    "                # add at the end of each tweet \"t_end\" \n",
    "                self.client_socket\\\n",
    "                    .send(str(msg['extended_tweet']['full_text']+\"t_end\")\\\n",
    "                    .encode('utf-8'))\n",
    "                print(msg['extended_tweet']['full_text'])\n",
    "                \n",
    "            else:\n",
    "                # add at the end of each tweet \"t_end\" \n",
    "                self.client_socket\\\n",
    "                    .send(str(msg['text']+\"t_end\")\\\n",
    "                    .encode('utf-8'))\n",
    "                print(msg['text'])\n",
    "                \n",
    "            return True\n",
    "        \n",
    "        except BaseException as e:\n",
    "            print(\"Error on_data: %s\" % str(e))\n",
    "        return True\n",
    "    \n",
    "    def on_error(self, status):\n",
    "        print(status)\n",
    "        return True"
   ]
  },
  {
   "cell_type": "code",
   "execution_count": null,
   "id": "1ef3da79",
   "metadata": {},
   "outputs": [],
   "source": [
    "def sendData(c_socket, keyword):\n",
    "    print('start sending data from Twitter to socket')\n",
    "    \n",
    "    # authentication based on the credentials\n",
    "    auth = tweepy.OAuthHandler(consumer_key, consumer_secret)\n",
    "    auth.set_access_token(access_token, access_secret)\n",
    "    \n",
    "    # start sending data from the Streaming API \n",
    "    twitter_stream = Stream(auth, TweetsListener(c_socket))\n",
    "    twitter_stream.filter(locations=[-78.6,33.95,-69.14,43.47], track = keyword, languages=[\"en\"])"
   ]
  },
  {
   "cell_type": "code",
   "execution_count": null,
   "id": "a0f60d27",
   "metadata": {},
   "outputs": [],
   "source": [
    "import os\n",
    "\n",
    "netcat = 'xfce-terminal --command \"nc -nvlp 5555\"'\n",
    "print (\"Starting listener on port 5555\")\n",
    "from subprocess import call\n",
    "call(netcat,shell=True)"
   ]
  },
  {
   "cell_type": "code",
   "execution_count": null,
   "id": "bd8bfe05",
   "metadata": {},
   "outputs": [],
   "source": [
    "if __name__ == \"__main__\":\n",
    "    # server (local machine) creates listening socket\n",
    "    s = socket.socket()\n",
    "    host = \"127.0.0.1\"    \n",
    "    port = 5555\n",
    "    s.bind((host, port))\n",
    "    print('socket is ready')\n",
    "    \n",
    "    # server (local machine) listens for connections\n",
    "    s.listen(4)\n",
    "    print('socket is listening')\n",
    "    \n",
    "    # return the socket and the address on the other side of the connection (client side)\n",
    "    c_socket, addr = s.accept()\n",
    "    print(\"Received request from: \" + str(addr))\n",
    "    \n",
    "    # the keyword for the tweet data is selected here\n",
    "    sendData(c_socket, keyword = ['vaccination'])"
   ]
  }
 ],
 "metadata": {
  "kernelspec": {
   "display_name": "Python 3",
   "language": "python",
   "name": "python3"
  },
  "language_info": {
   "codemirror_mode": {
    "name": "ipython",
    "version": 3
   },
   "file_extension": ".py",
   "mimetype": "text/x-python",
   "name": "python",
   "nbconvert_exporter": "python",
   "pygments_lexer": "ipython3",
   "version": "3.8.8"
  }
 },
 "nbformat": 4,
 "nbformat_minor": 5
}
